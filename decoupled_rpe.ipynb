{
 "cells": [
  {
   "cell_type": "code",
   "execution_count": 3,
   "metadata": {},
   "outputs": [],
   "source": [
    "import numpy as np\n",
    "import matplotlib.pyplot as plt\n",
    "import matplotlib.patches as patches\n",
    "from scipy.linalg import expm, logm\n",
    "from numpy.linalg import matrix_power\n",
    "import pygsti\n",
    "\n",
    "#setup autoreload\n",
    "%load_ext autoreload\n",
    "%autoreload 2"
   ]
  },
  {
   "cell_type": "code",
   "execution_count": 4,
   "metadata": {},
   "outputs": [],
   "source": [
    "SigX = np.array([[0, 1], [1, 0]])\n",
    "SigY = np.array([[0, -1j], [1j, 0]])\n",
    "SigZ = np.array([[1, 0], [0, -1]])\n",
    "SigI = np.eye(2)\n",
    "\n",
    "def commutator(A, B):\n",
    "    return A @ B - B @ A\n",
    "\n",
    "check_commutator = lambda A, B: np.allclose(commutator(A, B), 0)\n",
    "\n",
    "PauliBasis_1Q = [SigI, SigX, SigY, SigZ]\n",
    "PauliBasis_2Q = [np.kron(A, B) for A in PauliBasis_1Q for B in PauliBasis_1Q]\n",
    "\n",
    "\n",
    "def su4_from_vector(x):\n",
    "    H = np.zeros((4, 4), dtype=np.complex128)\n",
    "    for idx in range(15):\n",
    "        H += x[idx] * PauliBasis_2Q[idx+1]\n",
    "    return H\n",
    "\n",
    "def SU4_from_vector(x):\n",
    "    return expm(-(1j/2) * su4_from_vector(x))\n",
    "\n",
    "def vector_from_su4(H):\n",
    "    coefs = np.array([np.trace(H @ P)/4 for P in PauliBasis_2Q[1:]])\n",
    "    #assert coefs.imag.max() < 1e-6\n",
    "    return coefs.real\n",
    "\n",
    "def vector_from_SU4(U):\n",
    "    return vector_from_su4(2j * logm(U))\n",
    "\n",
    "def parse_su4_vector(x):\n",
    "    return {\n",
    "        'IX': x[0],\n",
    "        'IY': x[1],\n",
    "        'IZ': x[2],\n",
    "        'XI': x[3],\n",
    "        'XX': x[4],\n",
    "        'XY': x[5],\n",
    "        'XZ': x[6],\n",
    "        'YI': x[7],\n",
    "        'YX': x[8],\n",
    "        'YY': x[9],\n",
    "        'YZ': x[10],\n",
    "        'ZI': x[11],\n",
    "        'ZX': x[12],\n",
    "        'ZY': x[13],\n",
    "        'ZZ': x[14],\n",
    "    }\n",
    "\n",
    "# def idx_to_pauli_string(idx):\n",
    "#     return ['I', 'X', 'Y', 'Z'][idx//4] + ['I', 'X', 'Y', 'Z'][idx%4]\n",
    "\n",
    "def plot_su4_vector(x):\n",
    "    plt.bar(parse_su4_vector(x).keys(), parse_su4_vector(x).values())\n",
    "\n",
    "\n",
    "def make_Adjoint_SU4(U):\n",
    "    lop = np.zeros((15, 15), dtype=complex)\n",
    "    for i, op_i in enumerate(PauliBasis_2Q[1:]):\n",
    "        for j, op_j in enumerate(PauliBasis_2Q[1:]):\n",
    "            lop[i, j] = np.trace(op_i @ U @ op_j @ np.linalg.inv(U))/4\n",
    "    return lop.real\n",
    "\n",
    "def find_adjoint_order(Ad):\n",
    "    # find the first power of the adjoint that is the identity\n",
    "    for i in range(1, 100):\n",
    "        if np.allclose(matrix_power(Ad, i), np.eye(15)):\n",
    "            return i\n",
    "    raise ValueError(\"Adjoint order not found\")\n",
    "    return None\n",
    "\n",
    "def make_Adjoint_projector(U):\n",
    "    Ad = make_Adjoint_SU4(U)\n",
    "    order = find_adjoint_order(Ad)\n",
    "    Pi = np.zeros((15, 15), dtype=float)\n",
    "    for i in range(order):\n",
    "        Pi += matrix_power(Ad, i)\n",
    "    return Pi/order"
   ]
  },
  {
   "cell_type": "code",
   "execution_count": 5,
   "metadata": {},
   "outputs": [],
   "source": [
    "# focus on the ZZ term and finds it centralizer\n",
    "def find_centralizer(U, group):\n",
    "    centralizer = []\n",
    "    for g in group:\n",
    "        if np.allclose(U @ g, g @ U):\n",
    "            centralizer.append(g)\n",
    "    return centralizer"
   ]
  },
  {
   "cell_type": "code",
   "execution_count": 6,
   "metadata": {},
   "outputs": [
    {
     "name": "stdout",
     "output_type": "stream",
     "text": [
      "[array([[1., 0., 0., 0.],\n",
      "       [0., 1., 0., 0.],\n",
      "       [0., 0., 1., 0.],\n",
      "       [0., 0., 0., 1.]]), array([[ 1.,  0.,  0.,  0.],\n",
      "       [ 0., -1.,  0., -0.],\n",
      "       [ 0.,  0.,  1.,  0.],\n",
      "       [ 0., -0.,  0., -1.]]), array([[0, 0, 0, 1],\n",
      "       [0, 0, 1, 0],\n",
      "       [0, 1, 0, 0],\n",
      "       [1, 0, 0, 0]]), array([[0.+0.j, 0.-0.j, 0.+0.j, 0.-1.j],\n",
      "       [0.+0.j, 0.+0.j, 0.+1.j, 0.+0.j],\n",
      "       [0.+0.j, 0.-1.j, 0.+0.j, 0.-0.j],\n",
      "       [0.+1.j, 0.+0.j, 0.+0.j, 0.+0.j]]), array([[0.+0.j, 0.+0.j, 0.-0.j, 0.-1.j],\n",
      "       [0.+0.j, 0.+0.j, 0.-1.j, 0.-0.j],\n",
      "       [0.+0.j, 0.+1.j, 0.+0.j, 0.+0.j],\n",
      "       [0.+1.j, 0.+0.j, 0.+0.j, 0.+0.j]]), array([[ 0.+0.j,  0.-0.j,  0.-0.j, -1.+0.j],\n",
      "       [ 0.+0.j,  0.+0.j,  1.-0.j,  0.-0.j],\n",
      "       [ 0.+0.j,  1.-0.j,  0.+0.j,  0.-0.j],\n",
      "       [-1.+0.j,  0.+0.j,  0.+0.j,  0.+0.j]]), array([[ 1.,  0.,  0.,  0.],\n",
      "       [ 0.,  1.,  0.,  0.],\n",
      "       [ 0.,  0., -1., -0.],\n",
      "       [ 0.,  0., -0., -1.]]), array([[ 1,  0,  0,  0],\n",
      "       [ 0, -1,  0,  0],\n",
      "       [ 0,  0, -1,  0],\n",
      "       [ 0,  0,  0,  1]])]\n",
      "8\n"
     ]
    }
   ],
   "source": [
    "pauliZZ = np.kron(SigZ, SigZ)\n",
    "centralizer = find_centralizer(pauliZZ, PauliBasis_2Q)\n",
    "# for c in centralizer:\n",
    "#     x_c = vector_from_su4(c)\n",
    "#     parsed_x = parse_su4_vector(x_c)\n",
    "#     # print the element of parsed_x that is non-zero\n",
    "#     for k, v in parsed_x.items():\n",
    "#         if v != 0:\n",
    "#             print(k, v)\n",
    "print(centralizer)\n",
    "print(len(centralizer))"
   ]
  },
  {
   "cell_type": "code",
   "execution_count": 7,
   "metadata": {},
   "outputs": [],
   "source": [
    "def make_decoupling_sequence_unitary(U, centralizer, power):\n",
    "    U_seq = np.eye(4)\n",
    "    for c in centralizer:\n",
    "        U_seq = c @ U @ c @ U_seq\n",
    "    U_seq = matrix_power(U_seq, power)\n",
    "    return U_seq"
   ]
  },
  {
   "cell_type": "code",
   "execution_count": 8,
   "metadata": {},
   "outputs": [],
   "source": [
    "def make_randomized_decoupling_sequence_unitary(U, centralizer, power):\n",
    "    U_seq = np.eye(4)\n",
    "    for p in range(power):\n",
    "        # make a random permuytation of the centralizer\n",
    "        np.random.shuffle(centralizer)\n",
    "        for c in centralizer:\n",
    "            U_seq = c @ U @ c @ U_seq\n",
    "    return U_seq\n"
   ]
  },
  {
   "cell_type": "code",
   "execution_count": null,
   "metadata": {},
   "outputs": [],
   "source": []
  },
  {
   "cell_type": "code",
   "execution_count": 9,
   "metadata": {},
   "outputs": [
    {
     "data": {
      "text/plain": [
       "[array([[1., 0., 0., 0.],\n",
       "        [0., 1., 0., 0.],\n",
       "        [0., 0., 1., 0.],\n",
       "        [0., 0., 0., 1.]]),\n",
       " array([[ 1.,  0.,  0.,  0.],\n",
       "        [ 0., -1.,  0., -0.],\n",
       "        [ 0.,  0.,  1.,  0.],\n",
       "        [ 0., -0.,  0., -1.]]),\n",
       " array([[0, 0, 0, 1],\n",
       "        [0, 0, 1, 0],\n",
       "        [0, 1, 0, 0],\n",
       "        [1, 0, 0, 0]]),\n",
       " array([[0.+0.j, 0.-0.j, 0.+0.j, 0.-1.j],\n",
       "        [0.+0.j, 0.+0.j, 0.+1.j, 0.+0.j],\n",
       "        [0.+0.j, 0.-1.j, 0.+0.j, 0.-0.j],\n",
       "        [0.+1.j, 0.+0.j, 0.+0.j, 0.+0.j]]),\n",
       " array([[0.+0.j, 0.+0.j, 0.-0.j, 0.-1.j],\n",
       "        [0.+0.j, 0.+0.j, 0.-1.j, 0.-0.j],\n",
       "        [0.+0.j, 0.+1.j, 0.+0.j, 0.+0.j],\n",
       "        [0.+1.j, 0.+0.j, 0.+0.j, 0.+0.j]]),\n",
       " array([[ 0.+0.j,  0.-0.j,  0.-0.j, -1.+0.j],\n",
       "        [ 0.+0.j,  0.+0.j,  1.-0.j,  0.-0.j],\n",
       "        [ 0.+0.j,  1.-0.j,  0.+0.j,  0.-0.j],\n",
       "        [-1.+0.j,  0.+0.j,  0.+0.j,  0.+0.j]]),\n",
       " array([[ 1.,  0.,  0.,  0.],\n",
       "        [ 0.,  1.,  0.,  0.],\n",
       "        [ 0.,  0., -1., -0.],\n",
       "        [ 0.,  0., -0., -1.]]),\n",
       " array([[ 1,  0,  0,  0],\n",
       "        [ 0, -1,  0,  0],\n",
       "        [ 0,  0, -1,  0],\n",
       "        [ 0,  0,  0,  1]])]"
      ]
     },
     "execution_count": 9,
     "metadata": {},
     "output_type": "execute_result"
    }
   ],
   "source": [
    "centralizer"
   ]
  },
  {
   "cell_type": "code",
   "execution_count": 10,
   "metadata": {},
   "outputs": [
    {
     "name": "stdout",
     "output_type": "stream",
     "text": [
      "[[ 9.99998847e-01-3.87853800e-04j  2.88225836e-04-3.57733848e-04j\n",
      "   2.25535560e-04-1.15280282e-03j -2.36190124e-04+7.13763437e-04j]\n",
      " [-2.86189857e-04-3.58581259e-04j  9.99998321e-01+7.63807171e-04j\n",
      "   4.94971626e-04+9.98415712e-04j  4.32723838e-04-1.06493816e-03j]\n",
      " [-2.26746239e-04-1.15209050e-03j -4.94684505e-04+9.96965094e-04j\n",
      "   9.99997737e-01-4.42837100e-04j  4.85522392e-04+1.21536891e-03j]\n",
      " [ 2.37671611e-04+7.14431918e-04j -4.32487254e-04-1.06626178e-03j\n",
      "  -4.83340021e-04+1.21448057e-03j  9.99998198e-01+6.68845605e-05j]]\n"
     ]
    }
   ],
   "source": [
    "rand_x = 0.001*np.random.randn(15)\n",
    "rand_U = SU4_from_vector(rand_x)\n",
    "print(rand_U)"
   ]
  },
  {
   "cell_type": "code",
   "execution_count": 11,
   "metadata": {},
   "outputs": [
    {
     "data": {
      "text/plain": [
       "<BarContainer object of 15 artists>"
      ]
     },
     "execution_count": 11,
     "metadata": {},
     "output_type": "execute_result"
    },
    {
     "data": {
      "image/png": "[encoded data removed]",
      "text/plain": [
       "<Figure size 640x480 with 1 Axes>"
      ]
     },
     "metadata": {},
     "output_type": "display_data"
    }
   ],
   "source": [
    "power = 1\n",
    "U_decoupled = make_decoupling_sequence_unitary(rand_U, centralizer, power)\n",
    "x_decoupled = vector_from_SU4(U_decoupled)\n",
    "plt.bar(range(len(x_decoupled)), x_decoupled/(8*power), alpha=0.5)\n",
    "plt.bar(range(len(x_decoupled)), rand_x, alpha=0.5)"
   ]
  },
  {
   "cell_type": "code",
   "execution_count": 12,
   "metadata": {},
   "outputs": [
    {
     "data": {
      "text/plain": [
       "<BarContainer object of 15 artists>"
      ]
     },
     "execution_count": 12,
     "metadata": {},
     "output_type": "execute_result"
    },
    {
     "data": {
      "image/png": "[encoded data removed]",
      "text/plain": [
       "<Figure size 640x480 with 1 Axes>"
      ]
     },
     "metadata": {},
     "output_type": "display_data"
    }
   ],
   "source": [
    "power = 100\n",
    "U_decoupled = make_randomized_decoupling_sequence_unitary(rand_U, centralizer, power)\n",
    "x_decoupled = vector_from_SU4(U_decoupled)\n",
    "plt.bar(range(len(x_decoupled)), x_decoupled/(8*power))\n",
    "plt.bar(range(len(x_decoupled)), rand_x, alpha=0.5)"
   ]
  },
  {
   "cell_type": "code",
   "execution_count": 13,
   "metadata": {},
   "outputs": [],
   "source": [
    "from tqdm import tqdm"
   ]
  },
  {
   "cell_type": "code",
   "execution_count": 14,
   "metadata": {},
   "outputs": [],
   "source": [
    "def average_matrix_norm_over_many_samples(x_covar, centralizer, power, n_samples, norm='fro'):\n",
    "    total_error = 0\n",
    "    # make a 1-hot encoding of the zz term\n",
    "    for i in tqdm(range(n_samples)):\n",
    "        rand_x = np.random.multivariate_normal(np.zeros(15), x_covar)\n",
    "        one_hot = np.zeros(15)\n",
    "        one_hot[14] = rand_x[14]\n",
    "        \n",
    "        rand_U = SU4_from_vector(rand_x)\n",
    "        onehot_U = SU4_from_vector(one_hot)\n",
    "        U_decoupled = make_decoupling_sequence_unitary(rand_U, centralizer, power)\n",
    "        total_error += np.linalg.norm(U_decoupled - onehot_U, norm)\n",
    "    return total_error/n_samples\n",
    "        \n",
    "\n",
    "def average_vector_norm_over_many_samples(x_covar, centralizer, power, n_samples, norm='fro'):\n",
    "    total_error = 0\n",
    "    # make a 1-hot encoding of the zz term\n",
    "    for i in tqdm(range(n_samples)):\n",
    "        rand_x = np.random.multivariate_normal(np.zeros(15), x_covar)\n",
    "        one_hot = np.zeros(15)\n",
    "        one_hot[14] = rand_x[14]\n",
    "        rand_U = SU4_from_vector(rand_x)\n",
    "        U_decoupled = make_decoupling_sequence_unitary(rand_U, centralizer, power)\n",
    "        x_decoupled = vector_from_SU4(U_decoupled)\n",
    "        total_error += np.linalg.norm(x_decoupled - one_hot, 2)\n",
    "    return total_error/n_samples"
   ]
  },
  {
   "cell_type": "code",
   "execution_count": 15,
   "metadata": {},
   "outputs": [
    {
     "name": "stderr",
     "output_type": "stream",
     "text": [
      "  0%|          | 0/100 [00:00<?, ?it/s]"
     ]
    },
    {
     "name": "stderr",
     "output_type": "stream",
     "text": [
      "100%|██████████| 100/100 [00:00<00:00, 1245.42it/s]\n"
     ]
    },
    {
     "data": {
      "text/plain": [
       "1.6719016341516724"
      ]
     },
     "execution_count": 15,
     "metadata": {},
     "output_type": "execute_result"
    }
   ],
   "source": [
    "average_matrix_norm_over_many_samples(0.1*np.eye(15), centralizer, 1, 100)"
   ]
  },
  {
   "cell_type": "code",
   "execution_count": 16,
   "metadata": {},
   "outputs": [
    {
     "name": "stderr",
     "output_type": "stream",
     "text": [
      "  0%|          | 0/100 [00:00<?, ?it/s]"
     ]
    },
    {
     "name": "stderr",
     "output_type": "stream",
     "text": [
      "100%|██████████| 100/100 [00:00<00:00, 421.50it/s]\n"
     ]
    },
    {
     "data": {
      "text/plain": [
       "0.5785990268988861"
      ]
     },
     "execution_count": 16,
     "metadata": {},
     "output_type": "execute_result"
    }
   ],
   "source": [
    "average_vector_norm_over_many_samples(0.01*np.eye(15), centralizer, 1, 100)"
   ]
  },
  {
   "cell_type": "code",
   "execution_count": 17,
   "metadata": {},
   "outputs": [
    {
     "name": "stderr",
     "output_type": "stream",
     "text": [
      "  0%|          | 0/100 [00:00<?, ?it/s]"
     ]
    },
    {
     "name": "stderr",
     "output_type": "stream",
     "text": [
      "100%|██████████| 100/100 [00:00<00:00, 465.19it/s]\n",
      "100%|██████████| 100/100 [00:00<00:00, 478.88it/s]\n",
      "100%|██████████| 100/100 [00:00<00:00, 446.78it/s]\n",
      "100%|██████████| 100/100 [00:00<00:00, 438.69it/s]\n",
      "100%|██████████| 100/100 [00:00<00:00, 413.43it/s]\n",
      "100%|██████████| 100/100 [00:00<00:00, 401.86it/s]\n",
      "100%|██████████| 100/100 [00:00<00:00, 406.58it/s]\n",
      "100%|██████████| 100/100 [00:00<00:00, 372.07it/s]\n",
      "100%|██████████| 100/100 [00:00<00:00, 364.05it/s]\n",
      "100%|██████████| 100/100 [00:00<00:00, 399.52it/s]\n",
      "100%|██████████| 100/100 [00:00<00:00, 405.57it/s]\n",
      "100%|██████████| 100/100 [00:00<00:00, 395.21it/s]\n",
      "100%|██████████| 100/100 [00:00<00:00, 399.70it/s]\n",
      "100%|██████████| 100/100 [00:00<00:00, 384.34it/s]\n",
      "100%|██████████| 100/100 [00:00<00:00, 397.92it/s]\n",
      "100%|██████████| 100/100 [00:00<00:00, 408.72it/s]\n",
      "100%|██████████| 100/100 [00:00<00:00, 394.89it/s]\n",
      "100%|██████████| 100/100 [00:00<00:00, 406.05it/s]\n",
      "100%|██████████| 100/100 [00:00<00:00, 413.65it/s]\n",
      "100%|██████████| 100/100 [00:00<00:00, 406.65it/s]\n",
      "100%|██████████| 100/100 [00:00<00:00, 414.50it/s]\n",
      "100%|██████████| 100/100 [00:00<00:00, 395.47it/s]\n",
      "100%|██████████| 100/100 [00:00<00:00, 386.65it/s]\n",
      "100%|██████████| 100/100 [00:00<00:00, 406.94it/s]\n",
      "100%|██████████| 100/100 [00:00<00:00, 408.37it/s]\n",
      "100%|██████████| 100/100 [00:00<00:00, 419.48it/s]\n",
      "100%|██████████| 100/100 [00:00<00:00, 405.60it/s]\n",
      "100%|██████████| 100/100 [00:00<00:00, 413.43it/s]\n",
      "100%|██████████| 100/100 [00:00<00:00, 373.52it/s]\n",
      "100%|██████████| 100/100 [00:00<00:00, 399.91it/s]\n",
      "100%|██████████| 100/100 [00:00<00:00, 418.31it/s]\n",
      "100%|██████████| 100/100 [00:00<00:00, 422.67it/s]\n",
      "100%|██████████| 100/100 [00:00<00:00, 387.49it/s]\n",
      "100%|██████████| 100/100 [00:00<00:00, 405.80it/s]\n",
      "100%|██████████| 100/100 [00:00<00:00, 422.02it/s]\n",
      "100%|██████████| 100/100 [00:00<00:00, 423.22it/s]\n",
      "100%|██████████| 100/100 [00:00<00:00, 412.01it/s]\n",
      "100%|██████████| 100/100 [00:00<00:00, 413.86it/s]\n",
      "100%|██████████| 100/100 [00:00<00:00, 413.26it/s]\n",
      "100%|██████████| 100/100 [00:00<00:00, 355.94it/s]\n"
     ]
    }
   ],
   "source": [
    "# make a grid of the average 1-norm error over many samples for different covars\n",
    "# for many powers\n",
    "covar_line = [2**i for i in range(-10, 0)]\n",
    "powers = [1, 10, 100, 1000]\n",
    "n_samples = 100\n",
    "error_trajs_power = {}\n",
    "for power in powers:\n",
    "    errors = []\n",
    "    for covar in covar_line:\n",
    "        errors.append(average_vector_norm_over_many_samples(covar*np.eye(15), centralizer, power, n_samples))\n",
    "    error_trajs_power[power] = errors"
   ]
  },
  {
   "cell_type": "code",
   "execution_count": 18,
   "metadata": {},
   "outputs": [
    {
     "data": {
      "text/plain": [
       "<matplotlib.legend.Legend at 0x7f20185d5ea0>"
      ]
     },
     "execution_count": 18,
     "metadata": {},
     "output_type": "execute_result"
    },
    {
     "data": {
      "image/png": "[encoded data removed]",
      "text/plain": [
       "<Figure size 640x480 with 1 Axes>"
      ]
     },
     "metadata": {},
     "output_type": "display_data"
    }
   ],
   "source": [
    "# plot them \n",
    "for power, errors in error_trajs_power.items():\n",
    "    plt.plot(covar_line, errors, label=power)\n",
    "plt.legend()"
   ]
  },
  {
   "cell_type": "markdown",
   "metadata": {},
   "source": [
    "# Folded decoupling"
   ]
  },
  {
   "cell_type": "code",
   "execution_count": 35,
   "metadata": {},
   "outputs": [],
   "source": [
    "def make_folded_decoupling_sequence(U, centralizer, power):\n",
    "    U_seq = U\n",
    "    sequence_length = 1\n",
    "    for p in range(power):\n",
    "        U_new = np.eye(4)\n",
    "        subsequence_length = 0\n",
    "        for c in centralizer:\n",
    "            subsequence_length += 1\n",
    "            U_new = c @ U_seq @ c @ U_new\n",
    "        U_seq = U_new\n",
    "        sequence_length *= subsequence_length\n",
    "    return U_seq, sequence_length"
   ]
  },
  {
   "cell_type": "code",
   "execution_count": 42,
   "metadata": {},
   "outputs": [],
   "source": [
    "rand_x = 0.01*np.random.randn(15)\n",
    "rand_U = SU4_from_vector(rand_x)\n"
   ]
  },
  {
   "cell_type": "code",
   "execution_count": 85,
   "metadata": {},
   "outputs": [],
   "source": [
    "centralizer = find_centralizer(np.kron(np.eye(2), SigY), PauliBasis_2Q)"
   ]
  },
  {
   "cell_type": "code",
   "execution_count": 92,
   "metadata": {},
   "outputs": [
    {
     "name": "stdout",
     "output_type": "stream",
     "text": [
      "512\n"
     ]
    }
   ],
   "source": [
    "power = 3\n",
    "U_folded, sequence_length = make_folded_decoupling_sequence(rand_U, centralizer, power)\n",
    "print(sequence_length)"
   ]
  },
  {
   "cell_type": "code",
   "execution_count": 93,
   "metadata": {},
   "outputs": [
    {
     "data": {
      "text/plain": [
       "True"
      ]
     },
     "execution_count": 93,
     "metadata": {},
     "output_type": "execute_result"
    }
   ],
   "source": [
    "is_unitary = lambda U: np.allclose(U @ U.T.conj(), np.eye(4))   \n",
    "is_unitary(U_folded)"
   ]
  },
  {
   "cell_type": "code",
   "execution_count": 94,
   "metadata": {},
   "outputs": [
    {
     "data": {
      "text/plain": [
       "[<matplotlib.lines.Line2D at 0x7f20161112d0>]"
      ]
     },
     "execution_count": 94,
     "metadata": {},
     "output_type": "execute_result"
    },
    {
     "data": {
      "image/png": "[encoded data removed]",
      "text/plain": [
       "<Figure size 640x480 with 1 Axes>"
      ]
     },
     "metadata": {},
     "output_type": "display_data"
    }
   ],
   "source": [
    "plt.plot(vector_from_SU4(U_folded)/(sequence_length))\n",
    "plt.plot(rand_x)"
   ]
  },
  {
   "cell_type": "markdown",
   "metadata": {},
   "source": [
    "# twiriling"
   ]
  },
  {
   "cell_type": "code",
   "execution_count": 24,
   "metadata": {},
   "outputs": [],
   "source": [
    "def make_random_twirl_sequence(U, centralizer, num_reps):\n",
    "    U_seq = np.eye(4)\n",
    "    for rep in range(num_reps):\n",
    "        # pick a c from centralizer\n",
    "        c = centralizer[np.random.randint(len(centralizer))]\n",
    "        U_seq = c @ U @ c @ U_seq\n",
    "    return U_seq"
   ]
  },
  {
   "cell_type": "code",
   "execution_count": 25,
   "metadata": {},
   "outputs": [],
   "source": [
    "num_twirls = 100\n",
    "num_reps_per_twirl = 10\n",
    "Us = []\n",
    "for i in range(num_twirls):\n",
    "    Us.append(make_random_twirl_sequence(rand_U, centralizer, num_reps_per_twirl))"
   ]
  },
  {
   "cell_type": "code",
   "execution_count": 26,
   "metadata": {},
   "outputs": [
    {
     "data": {
      "text/plain": [
       "array([[ 0.96725833-0.09353142j, -0.07266899+0.01594419j,\n",
       "         0.01736058+0.1414721j , -0.14727142-0.09013091j],\n",
       "       [ 0.08799937+0.03165305j,  0.982048  +0.11285046j,\n",
       "         0.00672331+0.01279497j,  0.02861359+0.11433744j],\n",
       "       [-0.00162356+0.15521476j, -0.01352687-0.00958625j,\n",
       "         0.9847465 -0.03842978j, -0.05076681+0.04302422j],\n",
       "       [ 0.12581768-0.08362442j, -0.05415353+0.11876039j,\n",
       "         0.065703  +0.06289626j,  0.97544773+0.01921276j]])"
      ]
     },
     "execution_count": 26,
     "metadata": {},
     "output_type": "execute_result"
    }
   ],
   "source": [
    "rand_U"
   ]
  },
  {
   "cell_type": "code",
   "execution_count": 27,
   "metadata": {},
   "outputs": [
    {
     "data": {
      "text/plain": [
       "8"
      ]
     },
     "execution_count": 27,
     "metadata": {},
     "output_type": "execute_result"
    }
   ],
   "source": [
    "len(centralizer)"
   ]
  },
  {
   "cell_type": "code",
   "execution_count": 28,
   "metadata": {},
   "outputs": [],
   "source": [
    "# print the sum of the twirls\n",
    "sum_U = np.eye(4)"
   ]
  },
  {
   "cell_type": "code",
   "execution_count": 29,
   "metadata": {},
   "outputs": [
    {
     "data": {
      "text/plain": [
       "array([[1., 0., 0., 0.],\n",
       "       [0., 1., 0., 0.],\n",
       "       [0., 0., 1., 0.],\n",
       "       [0., 0., 0., 1.]])"
      ]
     },
     "execution_count": 29,
     "metadata": {},
     "output_type": "execute_result"
    }
   ],
   "source": [
    "sum_U"
   ]
  },
  {
   "cell_type": "code",
   "execution_count": null,
   "metadata": {},
   "outputs": [],
   "source": []
  }
 ],
 "metadata": {
  "kernelspec": {
   "display_name": "ErrorGenerators",
   "language": "python",
   "name": "python3"
  },
  "language_info": {
   "codemirror_mode": {
    "name": "ipython",
    "version": 3
   },
   "file_extension": ".py",
   "mimetype": "text/x-python",
   "name": "python",
   "nbconvert_exporter": "python",
   "pygments_lexer": "ipython3",
   "version": "3.10.11"
  }
 },
 "nbformat": 4,
 "nbformat_minor": 2
}
